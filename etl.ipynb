{
 "cells": [
  {
   "cell_type": "code",
   "execution_count": 1,
   "metadata": {},
   "outputs": [],
   "source": [
    "import pandas as pd\n",
    "import os"
   ]
  },
  {
   "attachments": {},
   "cell_type": "markdown",
   "metadata": {},
   "source": [
    "TRANSFORMANDO AMAZON PRIME"
   ]
  },
  {
   "cell_type": "code",
   "execution_count": 2,
   "metadata": {},
   "outputs": [],
   "source": [
    "#leyendo amazon prime\n",
    "amazonTitles = pd.read_csv(\"amazon_prime_titles-score.csv\", encoding= 'utf')"
   ]
  },
  {
   "cell_type": "code",
   "execution_count": 3,
   "metadata": {},
   "outputs": [],
   "source": [
    "\n",
    "#agregando un id 'as1'\n",
    "aux = []\n",
    "for i in range (0,9668,1):\n",
    "    aux.append(\"a\"+amazonTitles['show_id'][i])\n",
    "aux = pd.DataFrame(aux,columns=['id']) # convertiendo lista a dataframe\n",
    "amazonTitlesData = pd.concat([aux, amazonTitles],axis=1) #concatenando dataframe con su id\n",
    "\n",
    "#dando formato a la fecha año-mes-dia\n",
    "amazonTitlesData['date_added'] = amazonTitlesData['date_added'].replace({' ':'/'}, regex=True) \n",
    "amazonTitlesData['date_added'] = amazonTitlesData['date_added'].replace({',':''}, regex=True)\n",
    "amazonTitlesData['date_added'] = pd.to_datetime(amazonTitlesData['date_added'])\n",
    "amazonTitlesData['date_added'] = amazonTitlesData['date_added'].dt.strftime('%Y-%m-%d')\n",
    "\n",
    "#convertiendo mayusculas a minusculas\n",
    "amazonTitlesData['type'] = amazonTitlesData['type'].str.lower()\n",
    "amazonTitlesData['title'] = amazonTitlesData['title'].str.lower()\n",
    "amazonTitlesData['director'] = amazonTitlesData['director'].str.lower()\n",
    "amazonTitlesData['cast'] = amazonTitlesData['cast'].str.lower()\n",
    "amazonTitlesData['country'] = amazonTitlesData['country'].str.lower()\n",
    "amazonTitlesData['rating'] = amazonTitlesData['rating'].str.lower()\n",
    "amazonTitlesData['duration'] = amazonTitlesData['duration'].str.lower()\n",
    "amazonTitlesData['listed_in'] = amazonTitlesData['listed_in'].str.lower()\n",
    "amazonTitlesData['description'] = amazonTitlesData['description'].str.lower()\n",
    "\n",
    "#separando la duracion en dos columnas\n",
    "df_intermedio = amazonTitlesData['duration'].str.split(expand=True)\n",
    "name  = ['duration_int','duration_type']\n",
    "df_intermedio = df_intermedio.set_axis(name, axis=1)\n",
    "df_last = amazonTitlesData[amazonTitlesData.columns[11:14]]\n",
    "df = pd.concat([df_intermedio,df_last], ignore_index=True, axis = 1)\n",
    "\n",
    "df_final = pd.concat([amazonTitlesData[amazonTitlesData.columns[0:10]],df], ignore_index=True, axis = 1)\n",
    "name_2   = ['id','show_id','type','title','director','cast','country','date_added',\n",
    "            'release_year','rating','duration_int','duration_type','listed_in','description','score',]\n",
    "amazonTitlesData = df_final.set_axis(name_2, axis=1)\n"
   ]
  },
  {
   "cell_type": "code",
   "execution_count": 4,
   "metadata": {},
   "outputs": [],
   "source": [
    "amazonTitlesData['rating'] = amazonTitlesData['rating'].fillna('g')"
   ]
  },
  {
   "cell_type": "code",
   "execution_count": 5,
   "metadata": {},
   "outputs": [],
   "source": [
    "os.mkdir('./data transformada')\n",
    "amazonTitlesData.to_csv(\"data transformada/amazonT.csv\", sep = ';', index = False)"
   ]
  },
  {
   "attachments": {},
   "cell_type": "markdown",
   "metadata": {},
   "source": [
    "transformando disney"
   ]
  },
  {
   "cell_type": "code",
   "execution_count": 6,
   "metadata": {},
   "outputs": [],
   "source": [
    "#leyendo disney\n",
    "disneyTitles = pd.read_csv(\"disney_plus_titles-score.csv\", encoding= 'utf')"
   ]
  },
  {
   "cell_type": "code",
   "execution_count": 7,
   "metadata": {},
   "outputs": [],
   "source": [
    "#agregando un id 'ds1'\n",
    "aux = []\n",
    "for i in range (0,1450,1):\n",
    "    aux.append(\"d\"+disneyTitles['show_id'][i])\n",
    "aux = pd.DataFrame(aux,columns=['id']) # convertiendo lista a dataframe\n",
    "disneyTitlesData = pd.concat([aux, disneyTitles],axis=1) #concatenando dataframe con su id"
   ]
  },
  {
   "cell_type": "code",
   "execution_count": 8,
   "metadata": {},
   "outputs": [],
   "source": [
    "#dando formato a la fecha año-mes-dia\n",
    "disneyTitlesData['date_added'] = disneyTitlesData['date_added'].replace({' ':'/'}, regex=True) \n",
    "disneyTitlesData['date_added'] = disneyTitlesData['date_added'].replace({',':''}, regex=True)\n",
    "disneyTitlesData['date_added'] = pd.to_datetime(disneyTitlesData['date_added'])\n",
    "disneyTitlesData['date_added'] = disneyTitlesData['date_added'].dt.strftime('%Y-%m-%d')"
   ]
  },
  {
   "cell_type": "code",
   "execution_count": 9,
   "metadata": {},
   "outputs": [],
   "source": [
    "#convertiendo mayusculas a minusculas\n",
    "disneyTitlesData['type'] = disneyTitlesData['type'].str.lower()\n",
    "disneyTitlesData['title'] = disneyTitlesData['title'].str.lower()\n",
    "disneyTitlesData['director'] = disneyTitlesData['director'].str.lower()\n",
    "disneyTitlesData['cast'] = disneyTitlesData['cast'].str.lower()\n",
    "disneyTitlesData['country'] = disneyTitlesData['country'].str.lower()\n",
    "disneyTitlesData['rating'] = disneyTitlesData['rating'].str.lower()\n",
    "disneyTitlesData['duration'] = disneyTitlesData['duration'].str.lower()\n",
    "disneyTitlesData['listed_in'] = disneyTitlesData['listed_in'].str.lower()\n",
    "disneyTitlesData['description'] = disneyTitlesData['description'].str.lower()"
   ]
  },
  {
   "cell_type": "code",
   "execution_count": 10,
   "metadata": {},
   "outputs": [],
   "source": [
    "#separando la duracion en dos columnas\n",
    "df_intermedio = disneyTitlesData['duration'].str.split(expand=True)\n",
    "name  = ['duration_int','duration_type']\n",
    "df_intermedio = df_intermedio.set_axis(name, axis=1)\n",
    "df_last = disneyTitlesData[disneyTitlesData.columns[11:14]]\n",
    "df = pd.concat([df_intermedio,df_last], ignore_index=True, axis = 1)\n",
    "\n",
    "df_final = pd.concat([disneyTitlesData[disneyTitlesData.columns[0:10]],df], ignore_index=True, axis = 1)\n",
    "name_2   = ['id','show_id','type','title','director','cast','country','date_added',\n",
    "            'release_year','rating','duration_int','duration_type','listed_in','description','score',]\n",
    "disneyTitlesData = df_final.set_axis(name_2, axis=1)"
   ]
  },
  {
   "cell_type": "code",
   "execution_count": 11,
   "metadata": {},
   "outputs": [],
   "source": [
    "disneyTitlesData['rating'] = disneyTitlesData['rating'].fillna('g')"
   ]
  },
  {
   "cell_type": "code",
   "execution_count": 12,
   "metadata": {},
   "outputs": [],
   "source": [
    "disneyTitlesData.to_csv(\"data transformada/disneyT.csv\", sep = ';', index = False)"
   ]
  },
  {
   "attachments": {},
   "cell_type": "markdown",
   "metadata": {},
   "source": [
    "TRANSFORMANDO HULU "
   ]
  },
  {
   "cell_type": "code",
   "execution_count": 24,
   "metadata": {},
   "outputs": [],
   "source": [
    "#leyendo HULU\n",
    "huluTitles = pd.read_csv(\"hulu_titles-score (2).csv\", encoding= 'utf')"
   ]
  },
  {
   "cell_type": "code",
   "execution_count": 25,
   "metadata": {},
   "outputs": [],
   "source": [
    "#agregando un id 'hs1'\n",
    "aux = []\n",
    "for i in range (0,3073,1):\n",
    "    aux.append(\"h\"+huluTitles['show_id'][i])\n",
    "aux = pd.DataFrame(aux,columns=['id']) # convertiendo lista a dataframe\n",
    "huluTitlesData = pd.concat([aux, huluTitles],axis=1) #concatenando dataframe con su id"
   ]
  },
  {
   "cell_type": "code",
   "execution_count": 26,
   "metadata": {},
   "outputs": [],
   "source": [
    "#dando formato a la fecha año-mes-dia\n",
    "huluTitlesData['date_added'] = huluTitlesData['date_added'].replace({' ':'/'}, regex=True) \n",
    "huluTitlesData['date_added'] = huluTitlesData['date_added'].replace({',':''}, regex=True)\n",
    "huluTitlesData['date_added'] = pd.to_datetime(huluTitlesData['date_added'])\n",
    "huluTitlesData['date_added'] = huluTitlesData['date_added'].dt.strftime('%Y-%m-%d')"
   ]
  },
  {
   "cell_type": "code",
   "execution_count": 27,
   "metadata": {},
   "outputs": [],
   "source": [
    "huluTitlesData['type'] = huluTitlesData['type'].str.lower()\n",
    "huluTitlesData['title'] = huluTitlesData['title'].str.lower()\n",
    "huluTitlesData['director'] = huluTitlesData['director'].str.lower()\n",
    "#huluTitlesData['cast'] = huluTitlesData['cast'].str.lower()\n",
    "huluTitlesData['country'] = huluTitlesData['country'].str.lower()\n",
    "huluTitlesData['rating'] = huluTitlesData['rating'].str.lower()\n",
    "huluTitlesData['duration'] = huluTitlesData['duration'].str.lower()\n",
    "huluTitlesData['listed_in'] = huluTitlesData['listed_in'].str.lower()\n",
    "huluTitlesData['description'] = huluTitlesData['description'].str.lower()"
   ]
  },
  {
   "cell_type": "code",
   "execution_count": 28,
   "metadata": {},
   "outputs": [],
   "source": [
    "#separando la duracion en dos columnas\n",
    "df_intermedio = huluTitlesData['duration'].str.split(expand=True)\n",
    "name  = ['duration_int','duration_type']\n",
    "df_intermedio = df_intermedio.set_axis(name, axis=1)\n",
    "df_last = huluTitlesData[huluTitlesData.columns[11:14]]\n",
    "df = pd.concat([df_intermedio,df_last], ignore_index=True, axis = 1)\n",
    "\n",
    "df_final = pd.concat([huluTitlesData[huluTitlesData.columns[0:10]],df], ignore_index=True, axis = 1)\n",
    "name_2   = ['id','show_id','type','title','director','cast','country','date_added',\n",
    "            'release_year','rating','duration_int','duration_type','listed_in','description','score',]\n",
    "huluTitlesData = df_final.set_axis(name_2, axis=1)"
   ]
  },
  {
   "cell_type": "code",
   "execution_count": 29,
   "metadata": {},
   "outputs": [],
   "source": [
    "huluTitlesData['rating'] = huluTitlesData['rating'].fillna('g')"
   ]
  },
  {
   "cell_type": "code",
   "execution_count": 30,
   "metadata": {},
   "outputs": [],
   "source": [
    "huluTitlesData.to_csv(\"data transformada/huluT.csv\", sep = ';', index = False)"
   ]
  },
  {
   "attachments": {},
   "cell_type": "markdown",
   "metadata": {},
   "source": [
    "TRANSFORMANDO NETFLIX"
   ]
  },
  {
   "cell_type": "code",
   "execution_count": 31,
   "metadata": {},
   "outputs": [],
   "source": [
    "#leyendo NETFLIX\n",
    "netflixTitles = pd.read_csv(\"netflix_titles-score.csv\", encoding= 'utf')"
   ]
  },
  {
   "cell_type": "code",
   "execution_count": 32,
   "metadata": {},
   "outputs": [],
   "source": [
    "#agregando un id 'hs1'\n",
    "aux = []\n",
    "for i in range (0,8807,1):\n",
    "    aux.append(\"n\"+netflixTitles['show_id'][i])\n",
    "aux = pd.DataFrame(aux,columns=['id']) # convertiendo lista a dataframe\n",
    "netflixTitlesData = pd.concat([aux, netflixTitles],axis=1) #concatenando dataframe con su id"
   ]
  },
  {
   "cell_type": "code",
   "execution_count": 33,
   "metadata": {},
   "outputs": [],
   "source": [
    "#dando formato a la fecha año-mes-dia\n",
    "netflixTitlesData['date_added'] = netflixTitlesData['date_added'].replace({' ':'/'}, regex=True) \n",
    "netflixTitlesData['date_added'] = netflixTitlesData['date_added'].replace({',':''}, regex=True)\n",
    "netflixTitlesData['date_added'] = pd.to_datetime(netflixTitlesData['date_added'])\n",
    "netflixTitlesData['date_added'] = netflixTitlesData['date_added'].dt.strftime('%Y-%m-%d')"
   ]
  },
  {
   "cell_type": "code",
   "execution_count": 34,
   "metadata": {},
   "outputs": [],
   "source": [
    "netflixTitlesData['type'] = netflixTitlesData['type'].str.lower()\n",
    "netflixTitlesData['title'] = netflixTitlesData['title'].str.lower()\n",
    "netflixTitlesData['director'] = netflixTitlesData['director'].str.lower()\n",
    "netflixTitlesData['cast'] = netflixTitlesData['cast'].str.lower()\n",
    "netflixTitlesData['country'] = netflixTitlesData['country'].str.lower()\n",
    "netflixTitlesData['rating'] = netflixTitlesData['rating'].str.lower()\n",
    "netflixTitlesData['duration'] = netflixTitlesData['duration'].str.lower()\n",
    "netflixTitlesData['listed_in'] = netflixTitlesData['listed_in'].str.lower()\n",
    "netflixTitlesData['description'] = netflixTitlesData['description'].str.lower()"
   ]
  },
  {
   "cell_type": "code",
   "execution_count": 35,
   "metadata": {},
   "outputs": [],
   "source": [
    "#separando la duracion en dos columnas\n",
    "df_intermedio = netflixTitlesData['duration'].str.split(expand=True)\n",
    "name  = ['duration_int','duration_type']\n",
    "df_intermedio = df_intermedio.set_axis(name, axis=1)\n",
    "df_last = netflixTitlesData[netflixTitlesData.columns[11:14]]\n",
    "df = pd.concat([df_intermedio,df_last], ignore_index=True, axis = 1)\n",
    "\n",
    "df_final = pd.concat([netflixTitlesData[netflixTitlesData.columns[0:10]],df], ignore_index=True, axis = 1)\n",
    "name_2   = ['id','show_id','type','title','director','cast','country','date_added',\n",
    "            'release_year','rating','duration_int','duration_type','listed_in','description','score',]\n",
    "netflixTitlesData = df_final.set_axis(name_2, axis=1)"
   ]
  },
  {
   "cell_type": "code",
   "execution_count": 36,
   "metadata": {},
   "outputs": [],
   "source": [
    "netflixTitlesData['rating'] = netflixTitlesData['rating'].fillna('g')"
   ]
  },
  {
   "cell_type": "code",
   "execution_count": 37,
   "metadata": {},
   "outputs": [],
   "source": [
    "netflixTitlesData.to_csv(\"data transformada/netflixT.csv\", sep = ';', index = False)"
   ]
  }
 ],
 "metadata": {
  "kernelspec": {
   "display_name": "base",
   "language": "python",
   "name": "python3"
  },
  "language_info": {
   "codemirror_mode": {
    "name": "ipython",
    "version": 3
   },
   "file_extension": ".py",
   "mimetype": "text/x-python",
   "name": "python",
   "nbconvert_exporter": "python",
   "pygments_lexer": "ipython3",
   "version": "3.9.13"
  },
  "orig_nbformat": 4,
  "vscode": {
   "interpreter": {
    "hash": "01f254512d14d34559dc809aebfeb31549e3c03bc32b6ffffafcf4b3087a72e3"
   }
  }
 },
 "nbformat": 4,
 "nbformat_minor": 2
}
